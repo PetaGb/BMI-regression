{
 "cells": [
  {
   "cell_type": "code",
   "execution_count": 1,
   "id": "ae3d0ed2-8584-4833-bf3c-5adafdf9f932",
   "metadata": {},
   "outputs": [],
   "source": [
    "import pandas as pd\n",
    "import numpy as np\n",
    "from matplotlib import pyplot as plt\n",
    "\n",
    "import warnings\n",
    "warnings.filterwarnings('ignore')\n",
    "\n",
    "# importing linear and ensemble regressive models\n",
    "from sklearn.linear_model import Lasso, Ridge, ElasticNet\n",
    "from sklearn.ensemble import RandomForestRegressor, GradientBoostingRegressor\n",
    "\n",
    "from sklearn.model_selection import train_test_split\n",
    "from sklearn.pipeline import make_pipeline\n",
    "from sklearn.preprocessing import StandardScaler\n",
    "from sklearn.model_selection import GridSearchCV\n",
    "\n",
    "from sklearn.metrics import r2_score\n",
    "from sklearn.metrics import mean_absolute_error\n",
    "\n",
    "import shap\n",
    "\n",
    "import pickle"
   ]
  },
  {
   "cell_type": "code",
   "execution_count": 2,
   "id": "c895b1a2-3fab-4269-ac30-d29d7b231b1b",
   "metadata": {},
   "outputs": [
    {
     "data": {
      "text/plain": [
       "(2087, 21)"
      ]
     },
     "execution_count": 2,
     "metadata": {},
     "output_type": "execute_result"
    }
   ],
   "source": [
    "df = pd.read_csv('analytical_base_table.csv')\n",
    "df.shape"
   ]
  },
  {
   "cell_type": "code",
   "execution_count": 3,
   "id": "3ff82498-f116-4a3f-b536-e2aaa74ef891",
   "metadata": {},
   "outputs": [],
   "source": [
    "y = df.bmi\n",
    "X = df.drop('bmi', axis=1)"
   ]
  },
  {
   "cell_type": "code",
   "execution_count": 4,
   "id": "94a24250-c880-4cfc-a3f7-96c28c911c19",
   "metadata": {},
   "outputs": [],
   "source": [
    "X_train, X_test, y_train, y_test =train_test_split(X, y, test_size=0.2, random_state=1234)"
   ]
  },
  {
   "cell_type": "code",
   "execution_count": 5,
   "id": "2033691a-3206-4d30-b3ce-f82eb8cda2f6",
   "metadata": {},
   "outputs": [
    {
     "name": "stdout",
     "output_type": "stream",
     "text": [
      "1669 418 1669 418\n"
     ]
    }
   ],
   "source": [
    "print( len(X_train), len(X_test), len(y_train), len(y_test) )"
   ]
  },
  {
   "cell_type": "code",
   "execution_count": 6,
   "id": "456e30e4-9768-448c-9775-341cb058a387",
   "metadata": {},
   "outputs": [],
   "source": [
    "pipelines = {\n",
    "    'lasso': make_pipeline(StandardScaler(), Lasso(random_state=123)),\n",
    "    'ridge': make_pipeline(StandardScaler(), Ridge(random_state=123)),\n",
    "    'enet': make_pipeline(StandardScaler(), ElasticNet(random_state=123)),\n",
    "    'rf':make_pipeline(StandardScaler(), RandomForestRegressor(random_state=123)),\n",
    "    'gb': make_pipeline(StandardScaler(), GradientBoostingRegressor(random_state=123))\n",
    "}"
   ]
  },
  {
   "cell_type": "code",
   "execution_count": 7,
   "id": "c1faeecf-bec7-4d12-9617-9a5cc8138033",
   "metadata": {},
   "outputs": [],
   "source": [
    "lasso_hyperparameters = { \n",
    "    'lasso__alpha' : [0.001, 0.005, 0.01, 0.05, 0.1, 0.5, 1, 5, 10] \n",
    "}\n",
    "\n",
    "ridge_hyperparameters = { \n",
    "    'ridge__alpha': [0.001, 0.005, 0.01, 0.05, 0.1, 0.5, 1, 5, 10]  \n",
    "}\n",
    "\n",
    "enet_hyperparameters = { \n",
    "    'elasticnet__alpha': [0.001, 0.005, 0.01, 0.05, 0.1, 0.5, 1, 5, 10],                        \n",
    "    'elasticnet__l1_ratio' : [0.1, 0.3, 0.5, 0.7, 0.9]  \n",
    "}\n",
    "\n",
    "rf_hyperparameters = { \n",
    "    'randomforestregressor__n_estimators' : [100, 200],\n",
    "    'randomforestregressor__max_features': ['auto', 'sqrt', 0.33],\n",
    "}\n",
    "\n",
    "gb_hyperparameters = { \n",
    "    'gradientboostingregressor__n_estimators': [100, 200],\n",
    "    'gradientboostingregressor__learning_rate' : [0.05, 0.1, 0.2],\n",
    "    'gradientboostingregressor__max_depth': [1, 3, 5]\n",
    "}"
   ]
  },
  {
   "cell_type": "code",
   "execution_count": 8,
   "id": "5b36cf31-2bd0-4dbb-925d-838ca59ab114",
   "metadata": {},
   "outputs": [],
   "source": [
    "hyperparameters = {\n",
    "    'lasso': lasso_hyperparameters,\n",
    "    'ridge': ridge_hyperparameters,\n",
    "    'enet': enet_hyperparameters,\n",
    "    'rf' : rf_hyperparameters,\n",
    "    'gb' : gb_hyperparameters\n",
    "}"
   ]
  },
  {
   "cell_type": "code",
   "execution_count": 9,
   "id": "58fa97ad-d0cd-4cfa-9040-75fe72108f4b",
   "metadata": {},
   "outputs": [
    {
     "name": "stdout",
     "output_type": "stream",
     "text": [
      "lasso has been fitted.\n",
      "ridge has been fitted.\n",
      "enet has been fitted.\n",
      "rf has been fitted.\n",
      "gb has been fitted.\n"
     ]
    }
   ],
   "source": [
    "fitted_models = {}\n",
    "for name, pipeline in pipelines.items():\n",
    "    model = GridSearchCV(pipeline, hyperparameters[name], cv=10, n_jobs=-1)\n",
    "    model.fit(X_train, y_train)\n",
    "    fitted_models[name] = model\n",
    "    print(name, 'has been fitted.')"
   ]
  },
  {
   "cell_type": "code",
   "execution_count": 10,
   "id": "2a85b4fb-1900-4b97-80a8-cb48fe1ea8ab",
   "metadata": {},
   "outputs": [
    {
     "name": "stdout",
     "output_type": "stream",
     "text": [
      "lasso 0.5200024021967817\n",
      "ridge 0.5200243162891064\n",
      "enet 0.5203033635851171\n",
      "rf 0.8756017131629209\n",
      "gb 0.8293428817511963\n"
     ]
    }
   ],
   "source": [
    "for name, model in fitted_models.items():\n",
    "    print( name, model.best_score_ )"
   ]
  },
  {
   "cell_type": "code",
   "execution_count": 11,
   "id": "77ad790c-ccff-4b45-adea-578ec7fa2df1",
   "metadata": {},
   "outputs": [
    {
     "name": "stdout",
     "output_type": "stream",
     "text": [
      "lasso\n",
      "--------\n",
      "R^2: 0.49320096838776717\n",
      "MAE: 4.511449475362239\n",
      "\n",
      "ridge\n",
      "--------\n",
      "R^2: 0.49297071681806226\n",
      "MAE: 4.511027810940516\n",
      "\n",
      "enet\n",
      "--------\n",
      "R^2: 0.49394908985676056\n",
      "MAE: 4.5225463807274595\n",
      "\n",
      "rf\n",
      "--------\n",
      "R^2: 0.8711586537347503\n",
      "MAE: 1.837996657813201\n",
      "\n",
      "gb\n",
      "--------\n",
      "R^2: 0.821609686501388\n",
      "MAE: 2.305257967865608\n",
      "\n"
     ]
    }
   ],
   "source": [
    "for name, model in fitted_models.items():\n",
    "    pred = model.predict(X_test)\n",
    "    print( name )\n",
    "    print( '--------' )\n",
    "    print( 'R^2:', r2_score(y_test, pred ))\n",
    "    print( 'MAE:', mean_absolute_error(y_test, pred))\n",
    "    print()"
   ]
  },
  {
   "cell_type": "code",
   "execution_count": 12,
   "id": "c9b0defb-ce69-4dc3-b661-fd097c687b90",
   "metadata": {},
   "outputs": [],
   "source": [
    "# small difference between r2 score and CV score indicate good generalization"
   ]
  },
  {
   "cell_type": "code",
   "execution_count": 18,
   "id": "dc2a2a65-87ec-48ad-a04a-d942aaf3461d",
   "metadata": {},
   "outputs": [],
   "source": [
    "\n",
    "# uložení celého GridSearchCV objektu (včetně best_estimator_, best_params_, atd.)\n",
    "with open(\"rf_model.pkl\", \"wb\") as f:\n",
    "    pickle.dump(fitted_models['rf'], f)\n"
   ]
  },
  {
   "cell_type": "code",
   "execution_count": 19,
   "id": "f7b3248b-19dc-4e64-8ab4-8b14e85ed39b",
   "metadata": {},
   "outputs": [],
   "source": [
    "with open(\"rf_best.pkl\", \"wb\") as f:\n",
    "    pickle.dump(fitted_models['rf'].best_estimator_, f)"
   ]
  },
  {
   "cell_type": "code",
   "execution_count": 21,
   "id": "f0ee69be-82d9-4a0b-989e-0f11a879a2a7",
   "metadata": {},
   "outputs": [],
   "source": [
    "with open(\"splits.pkl\", \"wb\") as f:\n",
    "    pickle.dump((X_train, X_test, y_train, y_test, X.columns.tolist()), f)"
   ]
  }
 ],
 "metadata": {
  "kernelspec": {
   "display_name": "Python 3 (ipykernel)",
   "language": "python",
   "name": "python3"
  },
  "language_info": {
   "codemirror_mode": {
    "name": "ipython",
    "version": 3
   },
   "file_extension": ".py",
   "mimetype": "text/x-python",
   "name": "python",
   "nbconvert_exporter": "python",
   "pygments_lexer": "ipython3",
   "version": "3.11.13"
  }
 },
 "nbformat": 4,
 "nbformat_minor": 5
}
